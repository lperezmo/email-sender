{
 "cells": [
  {
   "cell_type": "markdown",
   "metadata": {},
   "source": [
    "# Automated email bot based on 'yagmail'\n",
    "1. Start a yagmail session\n",
    "2. Personalize message using given data (e.g. spreadsheet, dataframe, etc)\n",
    "3. Send automated emails without breaking a sweat "
   ]
  },
  {
   "cell_type": "code",
   "execution_count": 1,
   "metadata": {},
   "outputs": [],
   "source": [
    "import yagmail\n",
    "import pandas as pd\n",
    "import numpy as np\n",
    "import smtplib, ssl\n",
    "import copy\n",
    "import keyring"
   ]
  },
  {
   "cell_type": "code",
   "execution_count": 2,
   "metadata": {},
   "outputs": [
    {
     "name": "stdout",
     "output_type": "stream",
     "text": [
      "SOME-PSWRD\n"
     ]
    }
   ],
   "source": [
    "# Set the email and password\n",
    "keyring.set_password(\"yagmail\", \"PUTIN@PUTINLAND.COM\", \"SOME-PSWRD\")\n",
    "\n",
    "# to show the set password\n",
    "print(keyring.get_password(\"yagmail\", \"PUTIN@PUTINLAND.COM\"))\n",
    "\n",
    "# Start a yagmail session with username\n",
    "yag = yagmail.SMTP('PUTIN@PUTINLAND.COM')"
   ]
  },
  {
   "cell_type": "code",
   "execution_count": 3,
   "metadata": {},
   "outputs": [],
   "source": [
    "# Read contents of excel file\n",
    "df = pd.read_excel(\"SOME Portfolio-Event Tracker-FY2112.xls\", \n",
    "                   sheet_name=\"UO CP\", \n",
    "                   index_col=1)"
   ]
  },
  {
   "cell_type": "markdown",
   "metadata": {},
   "source": [
    "## Example using data from a spredsheet (NOT PROVIDED FOR ANONYMITY)\n",
    "Here you would personalize email with names on your spreadsheet & other info about recipients"
   ]
  },
  {
   "cell_type": "code",
   "execution_count": 4,
   "metadata": {},
   "outputs": [],
   "source": [
    "for i in range(0,len(df)):\n",
    "\n",
    "    # Receiver name   \n",
    "    receiver_name = df.iloc[i][3].strip()\n",
    "    receiver_name = \"Professor \" + receiver_name.split(' ')[1]\n",
    "\n",
    "    class_name = df.iloc[i][0].strip()\n",
    "    class_name = class_name.split(' ')[0:2]\n",
    "    class_name = class_name[0] + \" \" + class_name[1]\n",
    "\n",
    "    subject = class_name + \" + \" + \"Teach For America Presentation\"\n",
    "    receiver_email = df.iloc[i][5].strip()\n",
    "\n",
    "    message = f\"\"\"Hi again {receiver_name},\n",
    "\n",
    "    I hope your week is going well. I’m following up today to check in about connecting with your {class_name} class to present on Teach For America.\n",
    "\n",
    "    May I give a 3-5 minute presentation at the start of class in the next few weeks?\n",
    "    Thank you for letting me know!\n",
    "\n",
    "    Warmly,\n",
    "    President Putin\n",
    "    \"\"\"\n",
    "\n",
    "    # Send personalized email\n",
    "    yag.send(to = receiver_email, subject = subject, contents = message)"
   ]
  },
  {
   "cell_type": "code",
   "execution_count": null,
   "metadata": {},
   "outputs": [],
   "source": []
  }
 ],
 "metadata": {
  "kernelspec": {
   "display_name": "Python 3 (ipykernel)",
   "language": "python",
   "name": "python3"
  },
  "language_info": {
   "codemirror_mode": {
    "name": "ipython",
    "version": 3
   },
   "file_extension": ".py",
   "mimetype": "text/x-python",
   "name": "python",
   "nbconvert_exporter": "python",
   "pygments_lexer": "ipython3",
   "version": "3.7.11"
  }
 },
 "nbformat": 4,
 "nbformat_minor": 4
}
