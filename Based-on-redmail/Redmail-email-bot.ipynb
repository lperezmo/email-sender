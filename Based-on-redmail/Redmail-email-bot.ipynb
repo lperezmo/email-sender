{
 "cells": [
  {
   "cell_type": "markdown",
   "metadata": {},
   "source": [
    "# Automated email bot based on 'redmail'\n",
    "Dependencies: redmail, daytime, schedule\n",
    "1. Initialize email bot\n",
    "2. Generate plots, data tables, human-readable date, and other items to be included with email\n",
    "3. Personalize how often and when the email is sent to recipients using *schedule* package"
   ]
  },
  {
   "cell_type": "code",
   "execution_count": 2,
   "metadata": {
    "executionInfo": {
     "elapsed": 819,
     "status": "ok",
     "timestamp": 1660243983025,
     "user": {
      "displayName": "Hess Bot",
      "userId": "08309928265981631424"
     },
     "user_tz": 300
    },
    "id": "V6EPML0dfzI3"
   },
   "outputs": [],
   "source": [
    "from redmail import gmail\n",
    "\n",
    "# Initialize email bot (can use outlook too)\n",
    "gmail.username = 'hess.email.bot@gmail.com'\n",
    "gmail.password = '***********'  # Safe 'app password\". Account w/2-FA"
   ]
  },
  {
   "cell_type": "code",
   "execution_count": 3,
   "metadata": {
    "colab": {
     "base_uri": "https://localhost:8080/",
     "height": 313
    },
    "executionInfo": {
     "elapsed": 1695,
     "status": "ok",
     "timestamp": 1660243996906,
     "user": {
      "displayName": "Hess Bot",
      "userId": "08309928265981631424"
     },
     "user_tz": 300
    },
    "id": "D4HnmxoEgp6J",
    "outputId": "bfbe7401-2b94-4772-ba66-1c44bf6ec99e"
   },
   "outputs": [
    {
     "data": {
      "text/plain": [
       "<email.message.EmailMessage at 0x7eff27035e90>"
      ]
     },
     "execution_count": 3,
     "metadata": {},
     "output_type": "execute_result"
    },
    {
     "data": {
      "image/png": "[encoded data removed]",
      "text/plain": [
       "<Figure size 432x288 with 1 Axes>"
      ]
     },
     "metadata": {
      "needs_background": "light"
     },
     "output_type": "display_data"
    }
   ],
   "source": [
    "def send_email_report():\n",
    "    # EXAMPLE PLOT\n",
    "    import numpy as np\n",
    "    import matplotlib.pyplot as plt\n",
    "    year = [1950, 1960, 1970, 1980, 1990, 2000, 2010, 2018]\n",
    "    population_by_continent = {\n",
    "        'africa': [228, 284, 365, 477, 631, 814, 1044, 1275],\n",
    "        'americas': [340, 425, 519, 619, 727, 840, 943, 1006],\n",
    "        'asia': [1394, 1686, 2120, 2625, 3202, 3714, 4169, 4560],\n",
    "        'europe': [220, 253, 276, 295, 310, 303, 294, 293],\n",
    "        'oceania': [12, 15, 19, 22, 26, 31, 36, 39],\n",
    "        }\n",
    "    fig, ax = plt.subplots()\n",
    "    ax.stackplot(year, population_by_continent.values(),\n",
    "                 labels=population_by_continent.keys(), alpha=0.8)\n",
    "    ax.legend(loc='upper left')\n",
    "    ax.set_title('World population')\n",
    "    ax.set_xlabel('Year')\n",
    "    ax.set_ylabel('Number of people (millions)')\n",
    "\n",
    "    # EXAMPLE PANDAS DATAFRAME\n",
    "    import pandas as pd\n",
    "    dates = pd.date_range(\"20130101\", periods=6)\n",
    "    df = pd.DataFrame(np.random.randn(6, 4), index=dates, columns=list(\"ABCD\"))\n",
    "    df_summary = df.describe()\n",
    "\n",
    "    # Initialize pretty date\n",
    "    import daytime\n",
    "    simple_date = daytime.datetime.date.today()\n",
    "    simple_date = simple_date.strftime(\"%a, %b %d %Y\")\n",
    "\n",
    "    # Send the report\n",
    "    gmail.send(\n",
    "        subject=f\"Report for %s (sample with random data)\" % simple_date,\n",
    "        receivers=['YOUR-RECIPIENT@SOME-EMAIL.COM'],\n",
    "        html=\"\"\"\n",
    "            <h1>Report for {{ simple_date }}</h1>\n",
    "            <hr>\n",
    "            <h2>Performance</h2>\n",
    "            {{ fig }}\n",
    "            <h2>Summary Statistics</h2>\n",
    "            {{ tbl }}\n",
    "            {{ tbl_summary }}\n",
    "            <hr>\n",
    "            <p>System running on {{ node }}</p>\n",
    "            Configured and automated by Luis Perez Morales\n",
    "        \"\"\",\n",
    "        body_params={\n",
    "            \"simple_date\" : simple_date\n",
    "        },\n",
    "        body_images={\n",
    "            \"fig\": fig\n",
    "        },\n",
    "        body_tables={\n",
    "            \"tbl_summary\" : df_summary\n",
    "        }\n",
    "    )\n",
    "\n",
    "\n",
    "# Schedule clock in at generated random times)\n",
    "schedule.every().monday.at('12:00').do(send_email_report) # 12:00 pm on Mondays\n",
    "schedule.every().tuesday.at('16:00').do(send_email_report) # 4:00 pm on Tuesdays\n",
    "schedule.every().friday.at('07:45').do(send_email_report)  # 7:45 am on Fridays\n",
    "\n",
    "while True:\n",
    "    schedule.run_pending()\n",
    "    time.sleep(1)\n",
    "    "
   ]
  },
  {
   "cell_type": "code",
   "execution_count": null,
   "metadata": {
    "id": "o80Y-dx8isll"
   },
   "outputs": [],
   "source": []
  }
 ],
 "metadata": {
  "colab": {
   "authorship_tag": "ABX9TyPjq2WQvUb+P1eM/qCd5uR+",
   "collapsed_sections": [],
   "name": "Hess-email-bot.ipynb",
   "provenance": []
  },
  "kernelspec": {
   "display_name": "Python 3 (ipykernel)",
   "language": "python",
   "name": "python3"
  },
  "language_info": {
   "codemirror_mode": {
    "name": "ipython",
    "version": 3
   },
   "file_extension": ".py",
   "mimetype": "text/x-python",
   "name": "python",
   "nbconvert_exporter": "python",
   "pygments_lexer": "ipython3",
   "version": "3.7.11"
  }
 },
 "nbformat": 4,
 "nbformat_minor": 4
}
